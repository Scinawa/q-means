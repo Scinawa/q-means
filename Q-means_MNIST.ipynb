{
 "cells": [
  {
   "cell_type": "markdown",
   "metadata": {},
   "source": [
    "# Quantum clustering: the q-means algorithm on the MNIST dataset."
   ]
  },
  {
   "cell_type": "markdown",
   "metadata": {},
   "source": [
    "In this notebook we study the performances of Q-means algorithm on the MNIST dataset. Specifically, since q-means reduces to the classical algorithm $\\delta$-k-means we just tested the performance of $\\delta$-k-means for various values of $\\delta$."
   ]
  },
  {
   "cell_type": "code",
   "execution_count": 1,
   "metadata": {},
   "outputs": [],
   "source": [
    "%matplotlib inline\n",
    "\n",
    "import sys\n",
    "import itertools\n",
    "import random\n",
    "from time import time\n",
    "\n",
    "import matplotlib.pyplot as plt\n",
    "from matplotlib import rc\n",
    "rc('font',**{'family':'sans-serif','sans-serif':['Helvetica']})\n",
    "rc('text', usetex=True)\n",
    "import matplotlib as mpl\n",
    "mpl.rcParams[\"figure.facecolor\"]= \"w\"\n",
    "mpl.rcParams[\"axes.facecolor\"] = \"w\"\n",
    "\n",
    "import seaborn as sns; sns.set()  # for plot styling\n",
    "\n",
    "import numpy as np\n",
    "\n",
    "from scipy.stats import mode\n",
    "\n",
    "import sklearn as sk\n",
    "from sklearn.metrics import accuracy_score\n",
    "from sklearn.metrics import pairwise_distances_argmin\n",
    "from sklearn.metrics import pairwise_distances\n",
    "from sklearn.discriminant_analysis import LinearDiscriminantAnalysis\n",
    "from sklearn.decomposition import PCA\n",
    "from sklearn.cluster import KMeans\n",
    "from sklearn.datasets import load_digits\n",
    "from sklearn.decomposition import PCA\n",
    "from sklearn.preprocessing import scale\n",
    "from sklearn.metrics import accuracy_score\n",
    "from sklearn import metrics\n",
    "from sklearn.cluster import KMeans\n",
    "from sklearn.cluster import DMeans\n",
    "\n",
    "from mnist import MNIST\n",
    "\n",
    "import importlib\n",
    "importlib.reload(sk)\n",
    "\n",
    "from sklearn import datasets\n",
    "digits = datasets.load_digits()\n",
    "\n",
    "np.warnings.filterwarnings('ignore')"
   ]
  },
  {
   "cell_type": "markdown",
   "metadata": {},
   "source": [
    "We load the data from a specific path. You might set this path to where you downloaded the dataset of MNIST. \n",
    "We want to test our images both on dimensionality reduced data and the original data, so we keep the two dataset in X and X_origin."
   ]
  },
  {
   "cell_type": "code",
   "execution_count": 2,
   "metadata": {},
   "outputs": [],
   "source": [
    "mndata = MNIST('/home/scinawa/workspace/hackedkit/python-mnist/data')\n",
    "\n",
    "X_train, y_train = mndata.load_training()\n",
    "X_test, y_test = mndata.load_testing()\n",
    "\n",
    "X_train, y_train = np.array(X_train), np.array(y_train)\n",
    "X_test,  y_test  = np.array(X_test),  np.array(y_test)"
   ]
  },
  {
   "cell_type": "markdown",
   "metadata": {},
   "source": [
    "#### Some helper functions"
   ]
  },
  {
   "cell_type": "code",
   "execution_count": 3,
   "metadata": {},
   "outputs": [],
   "source": [
    "def find_labels(predicted, correct):\n",
    "    labels_regular = np.zeros_like(correct)\n",
    "    correct = np.array(correct)\n",
    "    for i in np.unique(correct):        \n",
    "        mask = (predicted == i)\n",
    "        labels_regular[mask] = mode(correct[mask])[0]\n",
    "    return labels_regular\n",
    "\n",
    "\n",
    "def accuracy_kmeans(X, n_cluster, iteration_number, X_test, y_test, rseed):\n",
    "    kmeans = KMeans(n_clusters=n_cluster, random_state=rseed, n_init=1, max_iter=iteration_number).fit(X)\n",
    "    \n",
    "    predicted_ = kmeans.predict(X_test)\n",
    "    labels = find_labels(predicted_, y_test)\n",
    "    \n",
    "    accuracy = accuracy_score(np.array(y_test), labels)\n",
    "    return accuracy\n",
    "\n",
    "def accuracy_dmeans(X, n_cluster, iteration_number, X_test, y_test, delta, rseed):\n",
    "    dmeans = DMeans(n_clusters=n_cluster, random_state=rseed, n_init=1, max_iter=iteration_number, delta=delta).fit(X)\n",
    "     \n",
    "    predicted_ = dmeans.predict(X_test)\n",
    "    labels = find_labels(predicted_, y_test)\n",
    "    \n",
    "    accuracy = accuracy_score(np.array(y_test), labels)\n",
    "    return accuracy"
   ]
  },
  {
   "cell_type": "markdown",
   "metadata": {},
   "source": [
    "Now you can choose which dimensionality reduction algorithm to apply. We picked LDA because it gives higher accuracy and because there is a quantum algorithm for projecting the data in the same subspace (Quantum Slow Feature Analysis). You can even normalize the dataset, but we discourage this practice since it brings down the accuracy. Here we chosed LinearDisciminantAnalysis, but you can use other dr algorithms too.."
   ]
  },
  {
   "cell_type": "code",
   "execution_count": 4,
   "metadata": {},
   "outputs": [],
   "source": [
    "# Avoid this for improved accuracy.\n",
    "#X_train = sk.preprocessing.normalize(X_train)\n",
    "\n",
    "# Not optimal since on supervised information performs better\n",
    "#dimred = PCA(n_components=35)\n",
    "dimred = LinearDiscriminantAnalysis()\n",
    "\n",
    "X_train_dr_ = dimred.fit_transform(X_train, y_train)\n",
    "X_test_dr_ = dimred.transform(X_test)"
   ]
  },
  {
   "cell_type": "markdown",
   "metadata": {},
   "source": [
    "### Making the minimum norm equal to 1"
   ]
  },
  {
   "cell_type": "markdown",
   "metadata": {},
   "source": [
    "We can skip this step if we think we don't need to comply to this assumption in real data analysis on a quantum computer."
   ]
  },
  {
   "cell_type": "code",
   "execution_count": 5,
   "metadata": {},
   "outputs": [
    {
     "name": "stdout",
     "output_type": "stream",
     "text": [
      "a norm: 5.011084931661482\n",
      "The biggest norm before normalization is 12.287669793890952\n",
      "The smallest norm is 0.8025615543293527\n",
      "The biggest norm after normalization is 15.310563691477771\n"
     ]
    }
   ],
   "source": [
    "norms = np.linalg.norm(X_train_dr_, axis=1)\n",
    "print(\"a norm: {}\".format(np.linalg.norm(X_train_dr_[0])))\n",
    "print(\"The biggest norm before normalization is {}\".format(max(norms)))\n",
    "print(\"The smallest norm is {}\".format(min(norms)))\n",
    "\n",
    "X_train_dr = np.apply_along_axis(np.divide, 1, X_train_dr_, min(norms))\n",
    "X_test_dr = np.apply_along_axis(np.divide, 1, X_test_dr_, min(norms))\n",
    "norms = np.linalg.norm(X_train_dr, axis=1)\n",
    "print(\"The biggest norm after normalization is {}\".format(max(norms)))"
   ]
  },
  {
   "cell_type": "markdown",
   "metadata": {},
   "source": [
    "### Testing that kmeans gives good accuracy."
   ]
  },
  {
   "cell_type": "code",
   "execution_count": 6,
   "metadata": {},
   "outputs": [
    {
     "name": "stdout",
     "output_type": "stream",
     "text": [
      "The accuracy of k-means before DR is 0.593%\n",
      "The accuracy of k-means after DR is 0.863%\n"
     ]
    }
   ],
   "source": [
    "kmeans = KMeans(n_clusters=10).fit(X_train)\n",
    "predicted_= kmeans.predict(X_test)\n",
    "labels_origin = find_labels(predicted_, y_test)\n",
    "\n",
    "print(\"The accuracy of k-means before DR is {:.3}%\".format(accuracy_score(y_test, labels_origin)))\n",
    "\n",
    "kmeans_2 = KMeans(n_clusters=10).fit(X_train_dr)\n",
    "predicted_ = kmeans_2.predict(X_test_dr)\n",
    "labels = find_labels(predicted_, y_test)\n",
    "\n",
    "print(\"The accuracy of k-means after DR is {:.3}%\".format(accuracy_score(y_test, labels)))"
   ]
  },
  {
   "cell_type": "markdown",
   "metadata": {},
   "source": [
    "### Measuring the condition number"
   ]
  },
  {
   "cell_type": "code",
   "execution_count": 15,
   "metadata": {},
   "outputs": [
    {
     "name": "stdout",
     "output_type": "stream",
     "text": [
      "condition number of dr data: 1.8430468268340197\n",
      "condition number of non-dr data: inf\n"
     ]
    }
   ],
   "source": [
    "condition_number_dr = np.linalg.cond(X_train_dr)\n",
    "print(\"condition number of dr data: {}\".format(condition_number_dr))\n",
    "condition_number = np.linalg.cond(X_train)\n",
    "print(\"condition number of non-dr data: {}\".format(condition_number))\n",
    "\n",
    "_, eigval, _ = np.linalg.svd(X_train, full_matrices=False)"
   ]
  },
  {
   "cell_type": "code",
   "execution_count": 36,
   "metadata": {},
   "outputs": [
    {
     "name": "stdout",
     "output_type": "stream",
     "text": [
      "The gap -> 1.7744204001606536 1.7120253712554296e-10\n",
      "Thresholded condition number is 217255.54737787155\n"
     ]
    }
   ],
   "source": [
    "# we start to get very small singular values at 712.\n",
    "print(\"The gap ->\", eigval[711], eigval[712])\n",
    "print(\"Thresholded condition number is {}\".format(eigval[0]/eigval[711]))"
   ]
  },
  {
   "cell_type": "markdown",
   "metadata": {},
   "source": [
    "### Measuring Z "
   ]
  },
  {
   "cell_type": "code",
   "execution_count": 8,
   "metadata": {},
   "outputs": [
    {
     "name": "stdout",
     "output_type": "stream",
     "text": [
      "276.20421572916257\n"
     ]
    }
   ],
   "source": [
    "norms = np.linalg.norm(X_train_dr, axis=1)\n",
    "norms_cluster =np.linalg.norm(kmeans_2.cluster_centers_, axis=1)\n",
    "\n",
    "Z = max(np.square(norms))+max(np.square(norms_cluster))\n",
    "print(Z)"
   ]
  },
  {
   "cell_type": "markdown",
   "metadata": {},
   "source": [
    "## The experiment: measuring accuracy for k-means and d-means\n",
    "For some number of iteration we measure the accuracy of our classifier, removing the outliers."
   ]
  },
  {
   "cell_type": "code",
   "execution_count": null,
   "metadata": {},
   "outputs": [],
   "source": []
  },
  {
   "cell_type": "code",
   "execution_count": 9,
   "metadata": {
    "scrolled": true
   },
   "outputs": [
    {
     "name": "stdout",
     "output_type": "stream",
     "text": [
      "Running clustering with up to 1 iterations \n",
      "kmeans, dmeans, dmeans, nodr kmeans, nodr dmeans.. \n",
      "Iter: 1, run 0 | (DR) k-means:75.06% - q-means:75.12% - q-means_2:74.73% | (no-DR) k-means:43.74% - d-means:43.79% \n",
      "kmeans, dmeans, dmeans, nodr kmeans, nodr dmeans.. \n",
      "Iter: 1, run 1 | (DR) k-means:78.70% - q-means:78.65% - q-means_2:78.44% | (no-DR) k-means:48.37% - d-means:48.38% \n",
      "kmeans, dmeans, dmeans, nodr kmeans, nodr dmeans.. \n",
      "Iter: 1, run 2 | (DR) k-means:74.50% - q-means:74.22% - q-means_2:72.88% | (no-DR) k-means:49.80% - d-means:49.78% \n",
      "kmeans, dmeans, dmeans, nodr kmeans, nodr dmeans.. \n",
      "Iter: 1, run 3 | (DR) k-means:81.49% - q-means:81.40% - q-means_2:81.26% | (no-DR) k-means:50.69% - d-means:50.66% \n",
      "Running clustering with up to 2 iterations \n",
      "kmeans, dmeans, dmeans, nodr kmeans, nodr dmeans.. \n",
      "Iter: 2, run 0 | (DR) k-means:77.73% - q-means:77.59% - q-means_2:77.47% | (no-DR) k-means:53.00% - d-means:53.00% \n",
      "kmeans, dmeans, dmeans, nodr kmeans, nodr dmeans.. \n",
      "Iter: 2, run 1 | (DR) k-means:77.55% - q-means:77.51% - q-means_2:77.41% | (no-DR) k-means:48.25% - d-means:48.25% \n",
      "kmeans, dmeans, dmeans, nodr kmeans, nodr dmeans.. \n",
      "Iter: 2, run 2 | (DR) k-means:77.20% - q-means:77.07% - q-means_2:76.94% | (no-DR) k-means:51.17% - d-means:51.16% \n",
      "kmeans, dmeans, dmeans, nodr kmeans, nodr dmeans.. \n",
      "Iter: 2, run 3 | (DR) k-means:77.14% - q-means:77.29% - q-means_2:76.84% | (no-DR) k-means:47.12% - d-means:47.17% \n",
      "Running clustering with up to 3 iterations \n",
      "kmeans, dmeans, dmeans, nodr kmeans, nodr dmeans.. \n",
      "Iter: 3, run 0 | (DR) k-means:85.87% - q-means:85.82% - q-means_2:85.72% | (no-DR) k-means:53.44% - d-means:53.44% \n",
      "kmeans, dmeans, dmeans, nodr kmeans, nodr dmeans.. \n",
      "Iter: 3, run 1 | (DR) k-means:85.98% - q-means:85.97% - q-means_2:85.86% | (no-DR) k-means:52.52% - d-means:52.52% \n",
      "kmeans, dmeans, dmeans, nodr kmeans, nodr dmeans.. \n",
      "Iter: 3, run 2 | (DR) k-means:71.18% - q-means:71.32% - q-means_2:71.58% | (no-DR) k-means:54.56% - d-means:54.61% \n",
      "kmeans, dmeans, dmeans, nodr kmeans, nodr dmeans.. \n",
      "Iter: 3, run 3 | (DR) k-means:86.29% - q-means:86.23% - q-means_2:85.89% | (no-DR) k-means:58.87% - d-means:58.83% \n",
      "Running clustering with up to 4 iterations \n",
      "kmeans, dmeans, dmeans, nodr kmeans, nodr dmeans.. \n",
      "Iter: 4, run 0 | (DR) k-means:78.25% - q-means:78.23% - q-means_2:77.80% | (no-DR) k-means:55.26% - d-means:55.26% \n",
      "kmeans, dmeans, dmeans, nodr kmeans, nodr dmeans.. \n",
      "Iter: 4, run 1 | (DR) k-means:86.43% - q-means:86.20% - q-means_2:85.86% | (no-DR) k-means:56.16% - d-means:56.16% \n",
      "kmeans, dmeans, dmeans, nodr kmeans, nodr dmeans.. \n",
      "Iter: 4, run 2 | (DR) k-means:79.39% - q-means:79.15% - q-means_2:78.81% | (no-DR) k-means:57.83% - d-means:57.83% \n",
      "kmeans, dmeans, dmeans, nodr kmeans, nodr dmeans.. \n",
      "Iter: 4, run 3 | (DR) k-means:77.88% - q-means:77.77% - q-means_2:77.51% | (no-DR) k-means:53.52% - d-means:53.54% \n",
      "Running clustering with up to 6 iterations \n",
      "kmeans, dmeans, dmeans, nodr kmeans, nodr dmeans.. \n",
      "Iter: 6, run 0 | (DR) k-means:77.41% - q-means:77.36% - q-means_2:84.26% | (no-DR) k-means:54.80% - d-means:54.77% \n",
      "kmeans, dmeans, dmeans, nodr kmeans, nodr dmeans.. \n",
      "Iter: 6, run 1 | (DR) k-means:86.25% - q-means:86.42% - q-means_2:85.91% | (no-DR) k-means:58.42% - d-means:58.43% \n",
      "kmeans, dmeans, dmeans, nodr kmeans, nodr dmeans.. \n",
      "Iter: 6, run 2 | (DR) k-means:78.61% - q-means:78.48% - q-means_2:78.28% | (no-DR) k-means:56.40% - d-means:56.40% \n",
      "kmeans, dmeans, dmeans, nodr kmeans, nodr dmeans.. \n",
      "Iter: 6, run 3 | (DR) k-means:86.27% - q-means:86.31% - q-means_2:85.90% | (no-DR) k-means:63.38% - d-means:63.38% \n"
     ]
    }
   ],
   "source": [
    "iterations_set = np.linspace(1, 6, 5, dtype=int)\n",
    "iterations_set = np.insert(iterations_set, 0,0)\n",
    "\n",
    "results_kmeans = [0] \n",
    "results_dmeans = [0]  \n",
    "results_dmeans_2 = [0] \n",
    "results_kmeans_original = [0] \n",
    "results_dmeans_original = [0] \n",
    "\n",
    "delta = 0.2\n",
    "delta_2 = 0.4\n",
    "delta_original = 0.6\n",
    "\n",
    "n_clusters = 10\n",
    "\n",
    "for iterations in iterations_set[1:]:\n",
    "    print(\"Running clustering with up to {} iterations \".format(iterations))\n",
    "    \n",
    "    accuracy_set_kmeans = []\n",
    "    accuracy_set_dmeans = []\n",
    "    accuracy_set_dmeans_2 = []\n",
    "    accuracy_set_kmeans_original = []\n",
    "    accuracy_set_dmeans_original = []\n",
    "    \n",
    "    for sample in range(4): # this iteration is useless since we have n_iter from sklearn\n",
    "        rseed=random.randint(10,50) #random initialization must be the same for comparing regular and delta kmeans\n",
    "        \n",
    "        #KMEANS\n",
    "        print(\"kmeans, \", end='')\n",
    "        accuracy = accuracy_kmeans(X_train_dr, n_clusters, iterations, X_test_dr, y_test, rseed)\n",
    "        accuracy_set_kmeans.append(accuracy)\n",
    "\n",
    "        #DMEANS\n",
    "        print(\"dmeans, \", end='')\n",
    "        accuracy = accuracy_dmeans(X_train_dr, n_clusters, iterations, X_test_dr, y_test, delta, rseed)\n",
    "        accuracy_set_dmeans.append(accuracy)  \n",
    "\n",
    "        # DMEANS 2\n",
    "        print(\"dmeans, \", end='')\n",
    "        accuracy = accuracy_dmeans(X_train_dr, n_clusters, iterations, X_test_dr, y_test, delta_2, rseed)       \n",
    "        accuracy_set_dmeans_2.append(accuracy)  \n",
    "        \n",
    "        #KMEANS NO-DR\n",
    "        print(\"nodr kmeans, \", end='')\n",
    "        accuracy = accuracy_kmeans(X_train, n_clusters, iterations, X_test, y_test, rseed)\n",
    "        accuracy_set_kmeans_original.append(accuracy)\n",
    "        \n",
    "        # DMEANS NO-DR \n",
    "        print(\"nodr dmeans.. \")\n",
    "        accuracy = accuracy_dmeans(X_train, n_clusters, iterations, X_test, y_test, delta_original,rseed)       \n",
    "        accuracy_set_dmeans_original.append(accuracy)  \n",
    "        \n",
    "        #import pdb\n",
    "        #pdb.set_trace()\n",
    "        print(\"Iter: {}, run {} | (DR) k-means:{:.2%} - q-means:{:.2%} - q-means_2:{:.2%} | (no-DR) k-means:{:.2%} - d-means:{:.2%} \".format(         \n",
    "            iterations, sample, accuracy_set_kmeans[-1], accuracy_set_dmeans[-1], accuracy_set_dmeans_2[-1], accuracy_set_kmeans_original[-1], accuracy_set_dmeans_original[-1] ))    \n",
    "\n",
    "    results_kmeans.append(np.average(accuracy_set_kmeans))\n",
    "    results_dmeans.append(np.average(accuracy_set_dmeans))\n",
    "    results_dmeans_2.append(np.average(accuracy_set_dmeans_2))\n",
    "    results_kmeans_original.append(np.average(accuracy_set_kmeans_original))\n",
    "    results_dmeans_original.append(np.average(accuracy_set_dmeans_original))\n",
    "    "
   ]
  },
  {
   "cell_type": "markdown",
   "metadata": {},
   "source": [
    "## Now we plot the accuracy for all the experiments on MNIST"
   ]
  },
  {
   "cell_type": "code",
   "execution_count": 10,
   "metadata": {},
   "outputs": [
    {
     "data": {
      "text/plain": [
       "<matplotlib.legend.Legend at 0x7f1cb2e865c0>"
      ]
     },
     "execution_count": 10,
     "metadata": {},
     "output_type": "execute_result"
    },
    {
     "data": {
      "image/png": "[encoded data removed]",
      "text/plain": [
       "<Figure size 1080x720 with 1 Axes>"
      ]
     },
     "metadata": {
      "needs_background": "light"
     },
     "output_type": "display_data"
    }
   ],
   "source": [
    "import matplotlib.lines as mlines\n",
    "plt.style.use(\"seaborn-poster\")\n",
    "fig = plt.figure(figsize=(15,10))\n",
    "ax = fig.add_subplot(1, 1, 1) # nrows, ncols, index\n",
    "#iterations_set = [0,2,3,4,5,6,7,8,9]\n",
    "\n",
    "plot_k = ax.plot(iterations_set,results_kmeans,'#9b59b6', label=\"(DR) k-means\")\n",
    "plot_d = ax.plot(iterations_set,results_dmeans,'#3498db', label=\"(DR) q-means ($\\delta$ = {})\".format(delta))\n",
    "plot_d_2 = ax.plot(iterations_set,results_dmeans_2,'#95a5a6', label=\"(DR) q-means ($\\delta$ = {})\".format(delta_2))\n",
    "plot_k_non_dr = ax.plot(iterations_set,results_kmeans_original,'#e74c3c', label=\"k-means\")\n",
    "tplot_d_non_dr = ax.plot(iterations_set,results_dmeans_original,'#34495e', label=\"$\\delta$-k-means ($\\delta$ = {})\".format(delta_original))\n",
    "\n",
    "\n",
    "ax.set_facecolor('xkcd:white')\n",
    "ax.grid(which='both', color=\"grey\")\n",
    "\n",
    "plt.xlabel('Iterations ', fontsize=20)\n",
    "plt.ylabel('Accuracy (\\%)', fontsize=20)\n",
    "plt.xticks(fontsize=15)\n",
    "plt.yticks(fontsize=15)\n",
    "\n",
    "plt.xlim(0, 8)\n",
    "plt.ylim(0, 1)\n",
    "plt.grid(True)\n",
    "\n",
    "plt.legend(loc='lower right', ncol=1, shadow=True, fancybox=True, prop={'size': 20}) #, labels=['kmeans', 'dmeans'])"
   ]
  },
  {
   "cell_type": "code",
   "execution_count": null,
   "metadata": {},
   "outputs": [],
   "source": []
  }
 ],
 "metadata": {
  "kernelspec": {
   "display_name": "Python 3",
   "language": "python",
   "name": "python3"
  },
  "language_info": {
   "codemirror_mode": {
    "name": "ipython",
    "version": 3
   },
   "file_extension": ".py",
   "mimetype": "text/x-python",
   "name": "python",
   "nbconvert_exporter": "python",
   "pygments_lexer": "ipython3",
   "version": "3.6.6"
  }
 },
 "nbformat": 4,
 "nbformat_minor": 2
}
