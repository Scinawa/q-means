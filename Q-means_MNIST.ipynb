{
 "cells": [
  {
   "cell_type": "markdown",
   "metadata": {},
   "source": [
    "# Quantum clustering: the q-means algorithm on the MNIST dataset."
   ]
  },
  {
   "cell_type": "markdown",
   "metadata": {},
   "source": [
    "In this notebook we study the performances of Q-means algorithm on the MNIST dataset. Specifically, since q-means reduces to the classical algorithm $\\delta$-k-means we just tested the performance of $\\delta$-k-means. "
   ]
  },
  {
   "cell_type": "code",
   "execution_count": 1,
   "metadata": {},
   "outputs": [],
   "source": [
    "%matplotlib inline\n",
    "\n",
    "import sys\n",
    "import itertools\n",
    "import random\n",
    "from time import time\n",
    "\n",
    "import matplotlib.pyplot as plt\n",
    "from matplotlib import rc\n",
    "rc('font',**{'family':'sans-serif','sans-serif':['Helvetica']})\n",
    "rc('text', usetex=True)\n",
    "\n",
    "\n",
    "import seaborn as sns; sns.set()  # for plot styling\n",
    "\n",
    "import numpy as np\n",
    "\n",
    "from scipy.stats import mode\n",
    "\n",
    "import sklearn as sk\n",
    "from sklearn.metrics import accuracy_score\n",
    "from sklearn.metrics import pairwise_distances_argmin\n",
    "from sklearn.metrics import pairwise_distances\n",
    "from sklearn.discriminant_analysis import LinearDiscriminantAnalysis\n",
    "from sklearn.decomposition import PCA\n",
    "from sklearn.cluster import KMeans\n",
    "from sklearn.datasets import load_digits\n",
    "from sklearn.decomposition import PCA\n",
    "from sklearn.preprocessing import scale\n",
    "from sklearn.metrics import accuracy_score\n",
    "from sklearn import metrics\n",
    "from sklearn.cluster import KMeans\n",
    "from sklearn.cluster import DMeans\n",
    "\n",
    "from mnist import MNIST\n",
    "\n",
    "import importlib\n",
    "importlib.reload(sk)\n",
    "\n",
    "from sklearn import datasets\n",
    "digits = datasets.load_digits()\n",
    "\n",
    "\n",
    "np.warnings.filterwarnings('ignore')"
   ]
  },
  {
   "cell_type": "markdown",
   "metadata": {},
   "source": [
    "We load the data from a specific path. You might set this path to where you downloaded the dataset of MNIST. "
   ]
  },
  {
   "cell_type": "code",
   "execution_count": 67,
   "metadata": {},
   "outputs": [],
   "source": [
    "mndata = MNIST('/home/scinawa/workspace/hackedkit/python-mnist/data')\n",
    "mndata = MNIST('/home/scinawa/workspace/hackedkit/python-mnist/data')\n",
    "X_origin, y = mndata.load_training()\n",
    "X_test_origin, y_test = mndata.load_testing()\n",
    "\n",
    "y = np.array(y)\n",
    "y_test = np.array(y_test)\n",
    "X_origin = np.array(X_origin)\n",
    "X_test_origin = np.array(X_test_origin)"
   ]
  },
  {
   "cell_type": "markdown",
   "metadata": {},
   "source": [
    "Now you can choose which dimensionality reduction algorithm to apply. We picked LDA because it gives higher accuracy and because there is a quantum algorithm for projecting the data in the same subspace (Quantum Slow Feature Analysis)"
   ]
  },
  {
   "cell_type": "code",
   "execution_count": 68,
   "metadata": {},
   "outputs": [],
   "source": [
    "#X_origin = sk.preprocessing.normalize(X_origin)\n",
    "\n",
    "#dimred = PCA(n_components=35)\n",
    "dimred = LinearDiscriminantAnalysis()\n",
    "\n",
    "X = dimred.fit_transform(X_origin, y)\n",
    "X_test = dimred.transform(X_test_origin)"
   ]
  },
  {
   "cell_type": "markdown",
   "metadata": {},
   "source": [
    "### Testing that plain kmeans indeed gives good accuracy."
   ]
  },
  {
   "cell_type": "code",
   "execution_count": 51,
   "metadata": {},
   "outputs": [
    {
     "name": "stdout",
     "output_type": "stream",
     "text": [
      "The accuracy score of k-means after PCA is 0.863%\n"
     ]
    }
   ],
   "source": [
    "def find_labels(predicted, correct):\n",
    "    labels_regular = np.zeros_like(correct)\n",
    "    for i in np.unique(correct):        \n",
    "        mask = (predicted == i)\n",
    "        labels_regular[mask] = mode(correct[mask])[0]\n",
    "    return labels_regular\n",
    "\n",
    "kmeans = KMeans(n_clusters=10).fit(X)\n",
    "predicted_ = kmeans.predict(X_test)\n",
    "labels = find_labels(predicted_, y_test)\n",
    "\n",
    "\n",
    "print(\"The accuracy score of k-means after DR is {:.3}%\".format(accuracy_score(y_test, labels)))\n",
    "\n"
   ]
  },
  {
   "cell_type": "markdown",
   "metadata": {},
   "source": [
    "### Doing k-means again before dimensionality reduction, just to compare.."
   ]
  },
  {
   "cell_type": "code",
   "execution_count": 52,
   "metadata": {},
   "outputs": [
    {
     "name": "stdout",
     "output_type": "stream",
     "text": [
      "The accuracy score of k-means before PCA is 0.595%\n"
     ]
    }
   ],
   "source": [
    "kmeans2 = KMeans(n_clusters=10).fit(X_origin)\n",
    "predicted_origin_= kmeans2.predict(X_test_origin)\n",
    "labels_origin = find_labels(predicted_origin_, y_test)\n",
    "\n",
    "print(\"The accuracy score of k-means before PCA is {:.3}%\".format(accuracy_score(y_test, labels_origin)))"
   ]
  },
  {
   "cell_type": "markdown",
   "metadata": {},
   "source": [
    "### Measuring the condition number"
   ]
  },
  {
   "cell_type": "code",
   "execution_count": 70,
   "metadata": {},
   "outputs": [
    {
     "name": "stdout",
     "output_type": "stream",
     "text": [
      "(60000, 9)\n",
      "1.8430468268340194\n"
     ]
    }
   ],
   "source": [
    "print(X.shape)\n",
    "condition_number = np.linalg.cond(X)\n",
    "print(condition_number)"
   ]
  },
  {
   "cell_type": "markdown",
   "metadata": {},
   "source": [
    "### Let's measure the value of Z on this dataset"
   ]
  },
  {
   "cell_type": "code",
   "execution_count": 6,
   "metadata": {},
   "outputs": [
    {
     "name": "stdout",
     "output_type": "stream",
     "text": [
      "4281.261923151289\n"
     ]
    }
   ],
   "source": [
    "norms = np.linalg.norm(X, axis=1)\n",
    "norms_cluster =np.linalg.norm(kmeans.cluster_centers_, axis=1)\n",
    "\n",
    "Z = max(norms)+max(norms_cluster)\n",
    "print(Z)"
   ]
  },
  {
   "cell_type": "markdown",
   "metadata": {},
   "source": [
    "## The experiment: measuring accuracy for k-means and d-means\n",
    "For some number of iteration we measure the accuracy of our classifier, removing the outliers."
   ]
  },
  {
   "cell_type": "code",
   "execution_count": 7,
   "metadata": {},
   "outputs": [],
   "source": [
    "def find_labels(predicted, correct):\n",
    "    labels_regular = np.zeros_like(correct)\n",
    "    correct = np.array(correct)\n",
    "    for i in np.unique(correct):        \n",
    "        mask = (predicted == i)\n",
    "        labels_regular[mask] = mode(correct[mask])[0]\n",
    "    return labels_regular\n",
    "\n",
    "\n",
    "def accuracy_kmeans(X, n_cluster, iteration_number, X_test, y_test, rseed):\n",
    "    kmeans = KMeans(n_clusters=n_cluster, random_state=rseed, max_iter=iteration_number).fit(X)\n",
    "    \n",
    "    predicted_ = kmeans.predict(X_test)\n",
    "    labels = find_labels(predicted_, y_test)\n",
    "    \n",
    "    accuracy = accuracy_score(np.array(y_test), labels)\n",
    "    return accuracy\n",
    "\n",
    "def accuracy_dmeans(X, n_cluster, iteration_number, X_test, y_test, delta, rseed):\n",
    "    dmeans = DMeans(n_clusters=n_cluster, random_state=rseed, n_init=3, max_iter=iteration_number, delta=delta).fit(X)\n",
    "    \n",
    "    #import pdb\n",
    "    #pdb.set_trace()    \n",
    "    predicted_ = dmeans.predict(X_test)\n",
    "    labels = find_labels(predicted_, y_test)\n",
    "    \n",
    "    accuracy = accuracy_score(np.array(y_test), labels)\n",
    "    return accuracy"
   ]
  },
  {
   "cell_type": "code",
   "execution_count": 47,
   "metadata": {
    "scrolled": true
   },
   "outputs": [
    {
     "name": "stdout",
     "output_type": "stream",
     "text": [
      "Running clustering algos with max 2 iterations \n",
      " run 0 | (DR) k-means:86.39% - q-means:80.26% - q-means_2:77.99% | (no-DR) k-means:57.96% - d-means:57.96% \n",
      " run 1 | (DR) k-means:86.04% - q-means:85.35% - q-means_2:78.59% | (no-DR) k-means:60.18% - d-means:51.68% \n",
      "Running clustering algos with max 3 iterations \n",
      " run 0 | (DR) k-means:86.44% - q-means:86.02% - q-means_2:82.64% | (no-DR) k-means:57.76% - d-means:52.91% \n",
      " run 1 | (DR) k-means:86.56% - q-means:85.94% - q-means_2:81.08% | (no-DR) k-means:58.87% - d-means:58.87% \n",
      "Running clustering algos with max 4 iterations \n",
      " run 0 | (DR) k-means:86.24% - q-means:85.81% - q-means_2:82.68% | (no-DR) k-means:58.31% - d-means:53.00% \n",
      " run 1 | (DR) k-means:86.31% - q-means:85.97% - q-means_2:79.68% | (no-DR) k-means:54.57% - d-means:57.29% \n",
      "Running clustering algos with max 5 iterations \n",
      " run 0 | (DR) k-means:86.37% - q-means:86.07% - q-means_2:76.75% | (no-DR) k-means:58.64% - d-means:58.63% \n",
      " run 1 | (DR) k-means:86.27% - q-means:85.94% - q-means_2:80.24% | (no-DR) k-means:56.25% - d-means:59.28% \n",
      "Running clustering algos with max 6 iterations \n",
      " run 0 | (DR) k-means:86.27% - q-means:85.87% - q-means_2:81.44% | (no-DR) k-means:56.56% - d-means:59.49% \n",
      " run 1 | (DR) k-means:86.38% - q-means:86.47% - q-means_2:82.80% | (no-DR) k-means:57.60% - d-means:57.59% \n",
      "Running clustering algos with max 7 iterations \n",
      " run 0 | (DR) k-means:86.32% - q-means:79.11% - q-means_2:75.67% | (no-DR) k-means:58.71% - d-means:54.71% \n",
      " run 1 | (DR) k-means:86.33% - q-means:85.89% - q-means_2:82.44% | (no-DR) k-means:58.68% - d-means:55.39% \n",
      "Running clustering algos with max 8 iterations \n",
      " run 0 | (DR) k-means:86.32% - q-means:79.44% - q-means_2:79.69% | (no-DR) k-means:58.73% - d-means:56.79% \n",
      " run 1 | (DR) k-means:86.33% - q-means:85.52% - q-means_2:81.83% | (no-DR) k-means:59.83% - d-means:59.45% \n",
      "Running clustering algos with max 10 iterations \n",
      " run 0 | (DR) k-means:86.33% - q-means:79.44% - q-means_2:82.09% | (no-DR) k-means:59.04% - d-means:57.71% \n",
      " run 1 | (DR) k-means:86.34% - q-means:85.89% - q-means_2:82.20% | (no-DR) k-means:59.30% - d-means:57.27% \n"
     ]
    }
   ],
   "source": [
    "iterations_set = np.linspace(2, 10, 8, dtype=int)\n",
    "\n",
    "results_kmeans = []\n",
    "results_dmeans = []\n",
    "results_dmeans_2 = []\n",
    "results_kmeans_original = []\n",
    "results_dmeans_original = []\n",
    "\n",
    "delta = 0.3\n",
    "delta_2 = 1\n",
    "delta_original = 0.1\n",
    "\n",
    "n_clusters = 10\n",
    "\n",
    "for iterations in iterations_set:\n",
    "    print(\"Running clustering algos with max {} iterations \".format(iterations))\n",
    "    \n",
    "    accuracy_set_kmeans = []\n",
    "    accuracy_set_dmeans = []\n",
    "    accuracy_set_dmeans_2 = []\n",
    "    accuracy_set_kmeans_original = []\n",
    "    accuracy_set_dmeans_original = []\n",
    "    \n",
    "    for sample in range(2): # this iteration is useless since we have n_iter from sklearn\n",
    "        rseed=random.randint(10,50) #random initialization must be the same for comparing regular and delta kmeans\n",
    "        \n",
    "        #KMEANS\n",
    "        accuracy = accuracy_kmeans(X, n_clusters, iterations, X_test, y_test, rseed)\n",
    "        accuracy_set_kmeans.append(accuracy)\n",
    "\n",
    "        #DMEANS\n",
    "        accuracy = accuracy_dmeans(X, n_clusters, iterations, X_test, y_test, delta, rseed)\n",
    "        accuracy_set_dmeans.append(accuracy)  \n",
    "\n",
    "        # DMEANS 2\n",
    "        accuracy = accuracy_dmeans(X, n_clusters, iterations, X_test, y_test, delta_2, rseed)       \n",
    "        accuracy_set_dmeans_2.append(accuracy)  \n",
    "        \n",
    "        #KMEANS NO-DR\n",
    "        accuracy = accuracy_kmeans(X_origin, n_clusters, iterations, X_test_origin, y_test, rseed)\n",
    "        accuracy_set_kmeans_original.append(accuracy)\n",
    "        \n",
    "        # DMEANS NO-DR \n",
    "        accuracy = accuracy_dmeans(X_origin, n_clusters, iterations, X_test_origin, y_test, delta_original,rseed)       \n",
    "        accuracy_set_dmeans_original.append(accuracy)  \n",
    "        \n",
    "        #import pdb\n",
    "        #pdb.set_trace()\n",
    "        print(\" run {} | (DR) k-means:{:.2%} - q-means:{:.2%} - q-means_2:{:.2%} | (no-DR) k-means:{:.2%} - d-means:{:.2%} \".format(         \n",
    "            sample, accuracy_set_kmeans[-1], accuracy_set_dmeans[-1], accuracy_set_dmeans_2[-1], accuracy_set_kmeans_original[-1], accuracy_set_dmeans_original[-1] ))    \n",
    "\n",
    "    results_kmeans.append(np.average(accuracy_set_kmeans))\n",
    "    results_dmeans.append(np.average(accuracy_set_dmeans))\n",
    "    results_dmeans_2.append(np.average(accuracy_set_dmeans_2))\n",
    "    results_kmeans_original.append(np.average(accuracy_set_kmeans_original))\n",
    "    results_dmeans_original.append(np.average(accuracy_set_dmeans_original))\n",
    "    "
   ]
  },
  {
   "cell_type": "markdown",
   "metadata": {},
   "source": [
    "## Now we plot the accuracy for all the experiments on MNIST"
   ]
  },
  {
   "cell_type": "code",
   "execution_count": 48,
   "metadata": {},
   "outputs": [],
   "source": [
    "iterations_set = np.insert(iterations_set, 0,0)\n",
    "#iterations_set = [0,2, 7]\n",
    "results_kmeans = [0] + results_kmeans\n",
    "results_dmeans = [0] + results_dmeans\n",
    "results_dmeans_2 = [0] + results_dmeans_2\n",
    "results_kmeans_original = [0] + results_kmeans_original\n",
    "results_dmeans_original = [0] + results_dmeans_original"
   ]
  },
  {
   "cell_type": "code",
   "execution_count": 49,
   "metadata": {},
   "outputs": [
    {
     "data": {
      "text/plain": [
       "<matplotlib.legend.Legend at 0x7ffb10d88550>"
      ]
     },
     "execution_count": 49,
     "metadata": {},
     "output_type": "execute_result"
    },
    {
     "data": {
      "image/png": "[encoded data removed]",
      "text/plain": [
       "<Figure size 1440x720 with 1 Axes>"
      ]
     },
     "metadata": {},
     "output_type": "display_data"
    }
   ],
   "source": [
    "import matplotlib.lines as mlines\n",
    "plt.figure(figsize=(20,10))\n",
    "\n",
    "#iterations_set = [0,2,3,4,5,6,7,8,9]\n",
    "\n",
    "plot_k = plt.plot(iterations_set,results_kmeans,'#9b59b6', label=\"(LDA) k-means\")\n",
    "plot_d = plt.plot(iterations_set,results_dmeans,'#3498db', label=\"(LDA) q-means ($\\delta$ = 0.3)\")\n",
    "plot_d_2 = plt.plot(iterations_set,results_dmeans_2,'#95a5a6', label=\"(LDA) q-means ($\\delta$ = 1)\")\n",
    "plot_k_non_dr = plt.plot(iterations_set,results_kmeans_original,'#e74c3c', label=\"k-means\")\n",
    "tplot_d_non_dr = plt.plot(iterations_set,results_dmeans_original,'#34495e', label=\"$\\delta$-k-means ($\\delta$ = 0.1)\")\n",
    "\n",
    "\n",
    "#blue_line = mlines.Line2D(iterations_set, results_kmeans, color='#004c6d', marker='*', markersize=15, label='(LDA) k-means')\n",
    "#red_line = mlines.Line2D(iterations_set, results_dmeans, color='#7fc0cd', marker='*', markersize=15, label='(LDA) \\delta-k-means  0.3')\n",
    "#yellow_line = mlines.Line2D(iterations_set, results_dmeans_2, color='#e5ffff', marker='.', markersize=15, label='(LDA) \\delta-k-means 0.4')\n",
    "#green_line = mlines.Line2D(iterations_set, results_kmeans_original, color='#35ffff', marker='.', markersize=15, label='\\delta-k-means 0.5')\n",
    "\n",
    "\n",
    "plt.xlabel('Iterations ', fontsize=16)\n",
    "plt.ylabel('Accuracy (\\%)', fontsize=16)\n",
    "\n",
    "\n",
    "plt.xlim(0, 11)\n",
    "plt.ylim(0.1, 1)\n",
    "plt.grid(True)\n",
    "\n",
    "plt.legend(loc='lower right', ncol=1, shadow=True, fancybox=True, prop={'size': 15}) #, labels=['kmeans', 'dmeans'])"
   ]
  },
  {
   "cell_type": "markdown",
   "metadata": {},
   "source": [
    "# Part 2: Other measure of good of clustering"
   ]
  },
  {
   "cell_type": "markdown",
   "metadata": {},
   "source": [
    "In this part of the notebook we compared other measure of performances between delta-k-means and k-means for a small enough value of delta.\n",
    "\n",
    "From http://scikit-learn.org/stable/auto_examples/cluster/plot_kmeans_digits.html"
   ]
  },
  {
   "cell_type": "code",
   "execution_count": null,
   "metadata": {},
   "outputs": [],
   "source": [
    "np.random.seed(42)"
   ]
  },
  {
   "cell_type": "code",
   "execution_count": 29,
   "metadata": {},
   "outputs": [],
   "source": [
    "def bench_k_means(estimator, name, data):\n",
    "    t0 = time()\n",
    "    estimator.fit(data)\n",
    "    print('%-9s\\t%i\\t\\t%.3f\\t%.3f\\t%.3f\\t%.3f\\t%.3f\\t%.3f'\n",
    "          % (name, estimator.inertia_,\n",
    "             metrics.homogeneity_score(labels, estimator.labels_),\n",
    "             metrics.completeness_score(labels, estimator.labels_),\n",
    "             metrics.v_measure_score(labels, estimator.labels_),\n",
    "             metrics.adjusted_rand_score(labels, estimator.labels_),\n",
    "             metrics.adjusted_mutual_info_score(labels,  estimator.labels_),\n",
    "             metrics.silhouette_score(data, estimator.labels_,\n",
    "                                      metric='euclidean',\n",
    "                                      sample_size=sample_size)))"
   ]
  },
  {
   "cell_type": "code",
   "execution_count": 37,
   "metadata": {},
   "outputs": [
    {
     "name": "stdout",
     "output_type": "stream",
     "text": [
      "init \t\tinertia \t homo\t compl\t v-meas\t ARI \t AMI \t silhouette\n",
      "k-means++\t69644\t\t0.575\t0.648\t0.610\t0.455\t0.571\t0.134\n",
      "random   \t69464\t\t0.608\t0.655\t0.631\t0.476\t0.604\t0.143\n",
      "k-means (PCA)\t70803\t\t0.670\t0.697\t0.683\t0.561\t0.667\t0.123\n",
      "============================== D-means ==============================\n",
      "d-means++\t69663\t\t0.530\t0.570\t0.550\t0.418\t0.526\t0.137\n",
      "d-means random\t69687\t\t0.537\t0.577\t0.556\t0.423\t0.532\t0.113\n",
      "d-means (PCA)\t102633\t\t0.014\t0.014\t0.014\t0.002\t0.004\t-0.059\n"
     ]
    }
   ],
   "source": [
    "digits = load_digits()\n",
    "data = scale(digits.data)\n",
    "delta = 0.8\n",
    "n_samples, n_features = data.shape\n",
    "n_digits = len(np.unique(digits.target))\n",
    "labels = digits.target\n",
    "sample_size = 300\n",
    "\n",
    "print('init \\t\\tinertia \\t homo\\t compl\\t v-meas\\t ARI \\t AMI \\t silhouette')\n",
    "\n",
    "bench_k_means(KMeans(init='k-means++', n_clusters=n_digits, n_init=10, algorithm=\"full\"),\n",
    "                  name=\"k-means++\", data=data)\n",
    "\n",
    "bench_k_means(KMeans(init='random', n_clusters=n_digits, n_init=10),\n",
    "                  name=\"random\", data=data)\n",
    "\n",
    "# in this case the seeding of the centers is deterministic, hence we run the\n",
    "# kmeans algorithm only once with n_init=1\n",
    "pca = PCA(n_components=n_digits).fit(data)\n",
    "bench_k_means(KMeans(init=pca.components_, n_clusters=n_digits, n_init=1), name=\"k-means (PCA)\", data=data)\n",
    "\n",
    "print(30 * '=', \"D-means\", 30 * \"=\")\n",
    "\n",
    "\n",
    "bench_k_means(DMeans(init='k-means++', n_clusters=n_digits, n_init=10, delta=delta), name=\"d-means++\", data=data)\n",
    "\n",
    "bench_k_means(DMeans(init='random', n_clusters=n_digits, n_init=10, delta=delta), name=\"d-means random\", data=data)\n",
    "\n",
    "# in this case the seeding of the centers is deterministic, hence we run the\n",
    "# kmeans algorithm only once with n_init=1\n",
    "pca = PCA(n_components=n_digits).fit(data)\n",
    "bench_k_means(DMeans(init=pca.components_, n_clusters=n_digits, n_init=1, delta=delta), name=\"d-means (PCA)\", data=data)"
   ]
  },
  {
   "cell_type": "markdown",
   "metadata": {},
   "source": [
    "# Appendix: implementation of delta-k-means (not ++)"
   ]
  },
  {
   "cell_type": "code",
   "execution_count": null,
   "metadata": {},
   "outputs": [],
   "source": [
    "def label_with_delta(X,centers,delta): #give X (points) and centers: 2 numpy arrays\n",
    "    labels = []\n",
    "    count = 0 #to count the number of times we chose a random center\n",
    "    for dist_array in pairwise_distances(X,centers): #dist_array is the array of distances between on element Xi of X and each cluster! \n",
    "        mindist = np.min(dist_array) #distance between Xi and its closest clusters\n",
    "        normalmin = [np.argmin(dist_array)] # index of the clusters closest to Xi\n",
    "        close_dist = set([dist for dist in dist_array if abs(dist-mindist)<delta]) #array of all distance of dist_array if they are delta-close to mindist \n",
    "        deltamin = [i for i, item in enumerate(dist_array) if item in close_dist] #index of delta-close centers \n",
    "        deltachoice = random.choice(deltamin) #choose randomly one of the delta-close centers\n",
    "        labels.append(deltachoice)\n",
    "        if deltamin!=normalmin:\n",
    "            count+=1\n",
    "    #print(\"DELTA K-MEANS: %d random choices of centers over %d\"%(count,len(X)))\n",
    "    return np.array(labels),count\n",
    "\n",
    "def label_regular(X,centers):\n",
    "    return pairwise_distances_argmin(X,centers)\n",
    "\n",
    "def lossfunction(X,labels,centers):\n",
    "    N = len(X)\n",
    "    loss = 1/np.sqrt(N)*np.sum([np.linalg.norm(X[i]-centers[labels[i]]) for i in range(N)])\n",
    "    return loss\n",
    "\n",
    "\n",
    "def find_clusters_regular(X, n_clusters, threshold, iterations=None):\n",
    "    # 1. Randomly choose clusters\n",
    "    rng = np.random.RandomState(rseed)\n",
    "    i = rng.permutation(X.shape[0])[:n_clusters]\n",
    "    centers = X[i]\n",
    "    step = 0\n",
    "    loss = []\n",
    "    \n",
    "    while True:\n",
    "        step+=1\n",
    "        #print(\"step: {}\".format(step))\n",
    "        # 2a. Assign labels based on closest center\n",
    "        labels = pairwise_distances_argmin(X, centers) #REGULAR KMEANS\n",
    "        \n",
    "        # 2b. Find new centers from means of points\n",
    "        new_centers = np.array([X[labels == i].mean(0) for i in range(n_clusters)])\n",
    "        loss_step = lossfunction(X,labels,new_centers)\n",
    "        loss.append(loss_step)\n",
    "        #if step==1:\n",
    "            #print(\"step: {}\".format(step))\n",
    "            #plot_regular_clusters(X,labels,loss)\n",
    "        \n",
    "        if step>1:\n",
    "            \n",
    "            #if step%2==0:\n",
    "                #print(\"step: {}\".format(step))\n",
    "                #print(\"loss_step: {}\".format(loss_step))\n",
    "                #print(\"LossDiff: {}\".format(abs(loss_step - loss[-2])))\n",
    "                #plot_regular_clusters(X,labels,loss)\n",
    "                \n",
    "            # 2c. Check for convergence //!!\\\\change for threshold on Loss\n",
    "            if iterations == None:\n",
    "                if abs(loss_step - loss[-2])<threshold:\n",
    "                    #print(\"loss_step - loss[-2] = \"+str(loss_step)+\" - \"+str(loss[-2])+\" = \"+str(loss_step - loss[-2]))\n",
    "                    #print(\"step: {}\".format(step))\n",
    "                    #print(\"LossDiff: {}\".format(abs(loss_step - loss[-2])))\n",
    "                    #plot_regular_clusters(X,labels,loss)\n",
    "                    break                   \n",
    "            else:\n",
    "                if step == iterations:\n",
    "                    #print(\"END OF ITERATIONS\")\n",
    "                    #print(\"loss_step - loss[-2] = \"+str(loss_step)+\" - \"+str(loss[-2])+\" = \"+str(loss_step - loss[-2]))\n",
    "                    #print(\"step: {}\".format(step))\n",
    "                    #print(\"LossDiff: {}\".format(abs(loss_step - loss[-2])))\n",
    "                    #plot_regular_clusters(X,labels,loss)\n",
    "                    break                    \n",
    "        centers = new_centers\n",
    "    return centers, labels\n",
    "\n",
    "\n",
    "def find_clusters_delta(X, n_clusters, delta, threshold, iterations=None):\n",
    "    # 1. Randomly choose clusters\n",
    "    rng = np.random.RandomState(rseed)\n",
    "    i = rng.permutation(X.shape[0])[:n_clusters]\n",
    "    centers = X[i]\n",
    "    step = 0\n",
    "    random_choices = []\n",
    "    loss = []\n",
    "    \n",
    "    while True:\n",
    "        step+=1\n",
    "        \n",
    "        # 2a. Assign labels based on closest center\n",
    "        labels, count = label_with_delta(X,centers,delta) #DELTA KMEANS\n",
    "        random_choices.append(count)\n",
    "        \n",
    "        \n",
    "        # 2b. Find new centers from means of points\n",
    "        new_centers = np.array([X[labels == i].mean(0) for i in range(n_clusters)])\n",
    "        loss_step = lossfunction(X,labels,new_centers)\n",
    "        loss.append(loss_step)\n",
    "        \n",
    "        #if step==1:\n",
    "            #print(\"step: {}\".format(step))\n",
    "            #plot_delta_clusters(X,labels,random_choices,loss)\n",
    "\n",
    "        if step>1:\n",
    "            \n",
    "            #if step%2==0:\n",
    "                #print(\"step: {}\".format(step))\n",
    "                #print(\"loss_step: {}\".format(loss_step))\n",
    "                #print(\"LossDiff: {}\".format(abs(loss_step - loss[-2])))\n",
    "                #plot_delta_clusters(X,labels,random_choices,loss)\n",
    "\n",
    "\n",
    "            # 2c. Check for convergence //!!\\\\change for threshold on Loss\n",
    "            if iterations == None:\n",
    "                \n",
    "                if abs(loss_step - loss[-2])<threshold:\n",
    "                    #print(\"loss_step - loss[-2] = \"+str(loss_step)+\" - \"+str(loss[-2])+\" = \"+str(loss_step - loss[-2]))\n",
    "                    #print(\"step: {}\".format(step))\n",
    "                    #print(\"LossDiff: {}\".format(abs(loss_step - loss[-2])))\n",
    "                    #plot_delta_clusters(X,labels,random_choices,loss)\n",
    "                    break\n",
    "                    \n",
    "            else:\n",
    "                if step == iterations:\n",
    "                    #print(\"END OF ITERATIONS\")\n",
    "                    #print(\"loss_step - loss[-2] = \"+str(loss_step)+\" - \"+str(loss[-2])+\" = \"+str(loss_step - loss[-2]))\n",
    "                    #print(\"step: {}\".format(step))\n",
    "                    #print(\"LossDiff: {}\".format(abs(loss_step - loss[-2])))\n",
    "                    #plot_delta_clusters(X,labels,random_choices,loss)\n",
    "                    break\n",
    "                \n",
    "        centers = new_centers\n",
    "\n",
    "    return centers, labels, random_choices"
   ]
  }
 ],
 "metadata": {
  "kernelspec": {
   "display_name": "Python 3",
   "language": "python",
   "name": "python3"
  },
  "language_info": {
   "codemirror_mode": {
    "name": "ipython",
    "version": 3
   },
   "file_extension": ".py",
   "mimetype": "text/x-python",
   "name": "python",
   "nbconvert_exporter": "python",
   "pygments_lexer": "ipython3",
   "version": "3.6.5"
  }
 },
 "nbformat": 4,
 "nbformat_minor": 2
}
