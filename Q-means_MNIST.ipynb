{
 "cells": [
  {
   "cell_type": "markdown",
   "metadata": {},
   "source": [
    "# Quantum clustering: the q-means algorithm on the MNIST dataset."
   ]
  },
  {
   "cell_type": "markdown",
   "metadata": {},
   "source": [
    "In this notebook we study the performances of Q-means algorithm on the MNIST dataset. Specifically, since q-means reduces to the classical algorithm $\\delta$-k-means we just tested the performance of $\\delta$-k-means for various values of $\\delta$."
   ]
  },
  {
   "cell_type": "code",
   "execution_count": 1,
   "metadata": {},
   "outputs": [],
   "source": [
    "%matplotlib inline\n",
    "\n",
    "import sys\n",
    "import itertools\n",
    "import random\n",
    "from time import time\n",
    "\n",
    "import matplotlib.pyplot as plt\n",
    "from matplotlib import rc\n",
    "rc('font',**{'family':'sans-serif','sans-serif':['Helvetica']})\n",
    "rc('text', usetex=True)\n",
    "import matplotlib as mpl\n",
    "mpl.rcParams[\"figure.facecolor\"]= \"w\"\n",
    "mpl.rcParams[\"axes.facecolor\"] = \"w\"\n",
    "\n",
    "import seaborn as sns; sns.set()  # for plot styling\n",
    "\n",
    "import numpy as np\n",
    "\n",
    "from scipy.stats import mode\n",
    "\n",
    "import sklearn as sk\n",
    "from sklearn.metrics import accuracy_score\n",
    "from sklearn.metrics import pairwise_distances_argmin\n",
    "from sklearn.metrics import pairwise_distances\n",
    "from sklearn.discriminant_analysis import LinearDiscriminantAnalysis\n",
    "from sklearn.decomposition import PCA\n",
    "from sklearn.cluster import KMeans\n",
    "from sklearn.datasets import load_digits\n",
    "from sklearn.decomposition import PCA\n",
    "from sklearn.preprocessing import scale\n",
    "from sklearn.metrics import accuracy_score\n",
    "from sklearn import metrics\n",
    "from sklearn.cluster import KMeans\n",
    "from sklearn.cluster import DMeans\n",
    "\n",
    "from mnist import MNIST\n",
    "\n",
    "import importlib\n",
    "importlib.reload(sk)\n",
    "\n",
    "from sklearn import datasets\n",
    "digits = datasets.load_digits()\n",
    "\n",
    "np.warnings.filterwarnings('ignore')"
   ]
  },
  {
   "cell_type": "markdown",
   "metadata": {},
   "source": [
    "We load the data from a specific path. You might set this path to where you downloaded the dataset of MNIST. \n",
    "We want to test our images both on dimensionality reduced data and the original data, so we keep the two dataset in X and X_origin."
   ]
  },
  {
   "cell_type": "code",
   "execution_count": 2,
   "metadata": {},
   "outputs": [],
   "source": [
    "mndata = MNIST('/home/scinawa/workspace/hackedkit/python-mnist/data')\n",
    "\n",
    "X_train, y_train = mndata.load_training()\n",
    "X_test, y_test = mndata.load_testing()\n",
    "\n",
    "X_train, y_train = np.array(X_train), np.array(y_train)\n",
    "X_test,  y_test  = np.array(X_test),  np.array(y_test)"
   ]
  },
  {
   "cell_type": "markdown",
   "metadata": {},
   "source": [
    "#### Some helper functions"
   ]
  },
  {
   "cell_type": "code",
   "execution_count": 3,
   "metadata": {},
   "outputs": [],
   "source": [
    "def find_labels(predicted, correct):\n",
    "    labels_regular = np.zeros_like(correct)\n",
    "    correct = np.array(correct)\n",
    "    for i in np.unique(correct):        \n",
    "        mask = (predicted == i)\n",
    "        labels_regular[mask] = mode(correct[mask])[0]\n",
    "    return labels_regular\n",
    "\n",
    "\n",
    "def accuracy_kmeans(X, n_cluster, iteration_number, X_test, y_test, rseed):\n",
    "    kmeans = KMeans(n_clusters=n_cluster, random_state=rseed, n_init=1, max_iter=iteration_number).fit(X)\n",
    "    \n",
    "    predicted_ = kmeans.predict(X_test)\n",
    "    labels = find_labels(predicted_, y_test)\n",
    "    \n",
    "    accuracy = accuracy_score(np.array(y_test), labels)\n",
    "    return accuracy\n",
    "\n",
    "def accuracy_dmeans(X, n_cluster, iteration_number, X_test, y_test, delta, rseed):\n",
    "    dmeans = DMeans(n_clusters=n_cluster, random_state=rseed, n_init=1, max_iter=iteration_number, delta=delta).fit(X)\n",
    "     \n",
    "    predicted_ = dmeans.predict(X_test)\n",
    "    labels = find_labels(predicted_, y_test)\n",
    "    \n",
    "    accuracy = accuracy_score(np.array(y_test), labels)\n",
    "    return accuracy"
   ]
  },
  {
   "cell_type": "markdown",
   "metadata": {},
   "source": [
    "Now you can choose which dimensionality reduction algorithm to apply. We picked LDA because it gives higher accuracy and because there is a quantum algorithm for projecting the data in the same subspace (Quantum Slow Feature Analysis). You can even normalize the dataset, but we discourage this practice since it brings down the accuracy. Here we chosed LinearDisciminantAnalysis, but you can use other dr algorithms too.."
   ]
  },
  {
   "cell_type": "code",
   "execution_count": 4,
   "metadata": {},
   "outputs": [],
   "source": [
    "# Avoid this for improved accuracy.\n",
    "#X_train = sk.preprocessing.normalize(X_train)\n",
    "#X_test = sk.preprocessing.normalize(X_test)"
   ]
  },
  {
   "cell_type": "code",
   "execution_count": 5,
   "metadata": {},
   "outputs": [],
   "source": [
    "# Not optimal since on supervised information performs better, but we are doing unsupervised methods\n",
    "dimred = PCA(n_components=25)\n",
    "X_train_dr_ = dimred.fit_transform(X_train)\n",
    "X_test_dr_ = dimred.transform(X_test)\n",
    "\n",
    "# in case you want better accuracy\n",
    "#dimred = LinearDiscriminantAnalysis()\n",
    "#X_train_dr_ = dimred.fit_transform(X_train, y_train)\n",
    "\n"
   ]
  },
  {
   "cell_type": "markdown",
   "metadata": {},
   "source": [
    "### Making the minimum norm equal to 1"
   ]
  },
  {
   "cell_type": "markdown",
   "metadata": {},
   "source": [
    "We can skip this step if we think we don't need to comply to this assumption in real data analysis on a quantum computer."
   ]
  },
  {
   "cell_type": "code",
   "execution_count": 6,
   "metadata": {},
   "outputs": [
    {
     "name": "stdout",
     "output_type": "stream",
     "text": [
      "The biggest norm is  2849.407143181917, the smallest is 864.238735045928 \n",
      "The biggest norm after normalization is 3.297013924087181\n"
     ]
    }
   ],
   "source": [
    "norms = np.linalg.norm(X_train_dr_, axis=1)\n",
    "print(\"The biggest norm is  {}, the smallest is {} \".format(max(norms), min(norms)))\n",
    "\n",
    "X_train_dr = np.apply_along_axis(np.divide, 1, X_train_dr_, min(norms))\n",
    "X_test_dr = np.apply_along_axis(np.divide, 1, X_test_dr_, min(norms))\n",
    "\n",
    "norms = np.linalg.norm(X_train_dr, axis=1)\n",
    "print(\"The biggest norm after normalization is {}\".format(max(norms)))\n"
   ]
  },
  {
   "cell_type": "code",
   "execution_count": 7,
   "metadata": {},
   "outputs": [
    {
     "name": "stdout",
     "output_type": "stream",
     "text": [
      "The biggest norm of NON-DR is  4380.656685931916, the smallest is 910.3059925102108 \n",
      "The biggest norm of NON-DR after normalization is 4.812290286974881\n"
     ]
    }
   ],
   "source": [
    "norms_2 = np.linalg.norm(X_train, axis=1)\n",
    "print(\"The biggest norm of NON-DR is  {}, the smallest is {} \".format(max(norms_2), min(norms_2)))\n",
    "\n",
    "X_train = np.apply_along_axis(np.divide, 1, X_train, min(norms_2))\n",
    "X_test = np.apply_along_axis(np.divide, 1, X_test, min(norms_2))\n",
    "\n",
    "norms_2 = np.linalg.norm(X_train, axis=1)\n",
    "print(\"The biggest norm of NON-DR after normalization is {}\".format(max(norms_2)))"
   ]
  },
  {
   "cell_type": "code",
   "execution_count": 8,
   "metadata": {},
   "outputs": [],
   "source": [
    "# in case we skip the previous  step, we use unnomralized data.. \n",
    "#X_train_dr = X_train_dr_\n",
    "#X_test_dr = X_test_dr_"
   ]
  },
  {
   "cell_type": "markdown",
   "metadata": {},
   "source": [
    "### Testing that kmeans gives good accuracy."
   ]
  },
  {
   "cell_type": "code",
   "execution_count": 9,
   "metadata": {},
   "outputs": [],
   "source": [
    "if 0:\n",
    "    kmeans = KMeans(n_clusters=10).fit(X_train)\n",
    "    predicted_= kmeans.predict(X_test)\n",
    "    labels_origin = find_labels(predicted_, y_test)\n",
    "\n",
    "    print(\"The accuracy of k-means NON-DR is {:.3}%\".format(accuracy_score(y_test, labels_origin)))\n",
    "\n",
    "    kmeans_dr = KMeans(n_clusters=10).fit(X_train_dr)\n",
    "    predicted_dr = kmeans_2.predict(X_test_dr)\n",
    "    labels_dr = find_labels(predicted_dr, y_test)\n",
    "\n",
    "    print(\"The accuracy of k-means after DR is {:.3}%\".format(accuracy_score(y_test, labels)))"
   ]
  },
  {
   "cell_type": "markdown",
   "metadata": {},
   "source": [
    "### Measuring the condition number of various matrices"
   ]
  },
  {
   "cell_type": "code",
   "execution_count": 10,
   "metadata": {},
   "outputs": [
    {
     "name": "stdout",
     "output_type": "stream",
     "text": [
      "Condition number of dr data: 3.314906305200745\n",
      "Condition number of non-dr data: inf\n"
     ]
    }
   ],
   "source": [
    "condition_number_dr = np.linalg.cond(X_train_dr)\n",
    "condition_number = np.linalg.cond(X_train)\n",
    "\n",
    "print(\"Condition number of dr data: {}\".format(condition_number_dr))\n",
    "print(\"Condition number of non-dr data: {}\".format(condition_number))"
   ]
  },
  {
   "cell_type": "code",
   "execution_count": 11,
   "metadata": {},
   "outputs": [
    {
     "name": "stdout",
     "output_type": "stream",
     "text": [
      "The gap -> 0.0019492570792266396 1.8807409387757054e-13\n",
      "Condition number of non-dr-thresholded data is 217255.54737758907\n"
     ]
    }
   ],
   "source": [
    "_, eigval, _ = np.linalg.svd(X_train, full_matrices=False)\n",
    "\n",
    "# we start to get very small singular values at 712.\n",
    "print(\"The gap ->\", eigval[711], eigval[712])\n",
    "print(\"Condition number of non-dr-thresholded data is {}\".format(eigval[0]/eigval[711]))"
   ]
  },
  {
   "cell_type": "markdown",
   "metadata": {},
   "source": [
    "###  Plotting singular values"
   ]
  },
  {
   "cell_type": "code",
   "execution_count": 12,
   "metadata": {},
   "outputs": [
    {
     "data": {
      "image/png": "[encoded data removed]",
      "text/plain": [
       "<Figure size 432x288 with 1 Axes>"
      ]
     },
     "metadata": {
      "needs_background": "light"
     },
     "output_type": "display_data"
    }
   ],
   "source": [
    "import matplotlib.pyplot as plt\n",
    "plt.plot(eigval)\n",
    "plt.ylabel('magnitude')\n",
    "plt.show()\n"
   ]
  },
  {
   "cell_type": "markdown",
   "metadata": {},
   "source": [
    "### Measuring Z "
   ]
  },
  {
   "cell_type": "code",
   "execution_count": 13,
   "metadata": {},
   "outputs": [
    {
     "name": "stdout",
     "output_type": "stream",
     "text": [
      "Z of dr data: 21.740601631249508\n",
      "Z of non dr data: 46.31627561222557\n",
      "$\\eta$ of dr data: 10.870300815624754\n",
      "$\\eta$ of non dr data: 23.158137806112784\n"
     ]
    }
   ],
   "source": [
    "norms_dr = np.linalg.norm(X_train_dr, axis=1)\n",
    "norms = np.linalg.norm(X_train, axis=1)\n",
    "\n",
    "eta_dr = np.square(max(norms_dr))\n",
    "eta = np.square(max(norms))\n",
    "\n",
    "Z_dr= 2*max(np.square(norms_dr))\n",
    "Z = 2*max(np.square(norms))\n",
    "\n",
    "print(\"Z of dr data: {}\".format(Z_dr))\n",
    "print(\"Z of non dr data: {}\".format(Z))\n",
    "print(\"$\\eta$ of dr data: {}\".format(eta_dr))\n",
    "print(\"$\\eta$ of non dr data: {}\".format(eta))\n",
    "\n"
   ]
  },
  {
   "cell_type": "markdown",
   "metadata": {},
   "source": [
    "## The experiment: measuring accuracy for k-means and d-means\n",
    "For some number of iteration we measure the accuracy of our classifier, removing the outliers."
   ]
  },
  {
   "cell_type": "code",
   "execution_count": 22,
   "metadata": {
    "scrolled": true
   },
   "outputs": [
    {
     "name": "stdout",
     "output_type": "stream",
     "text": [
      "Running clustering with up to 1 iterations \n",
      "kmeans, dmeans, dmeans, nodr kmeans, nodr dmeans.. \n",
      "Iter: 1, run 0 | (DR) k-means:43.79% - q-means:42.29% - q-means_2:34.61% | (no-DR) k-means:51.50% - d-means:23.30% \n",
      "kmeans, dmeans, dmeans, nodr kmeans, nodr dmeans.. \n",
      "Iter: 1, run 1 | (DR) k-means:52.49% - q-means:47.88% - q-means_2:34.31% | (no-DR) k-means:49.69% - d-means:25.92% \n",
      "kmeans, dmeans, dmeans, nodr kmeans, nodr dmeans.. \n",
      "Iter: 1, run 2 | (DR) k-means:56.12% - q-means:49.83% - q-means_2:34.58% | (no-DR) k-means:43.96% - d-means:23.40% \n",
      "kmeans, dmeans, dmeans, nodr kmeans, nodr dmeans.. \n",
      "Iter: 1, run 3 | (DR) k-means:53.48% - q-means:48.80% - q-means_2:31.02% | (no-DR) k-means:46.04% - d-means:24.15% \n",
      "Running clustering with up to 2 iterations \n",
      "kmeans, dmeans, dmeans, nodr kmeans, nodr dmeans.. \n",
      "Iter: 2, run 0 | (DR) k-means:52.97% - q-means:49.69% - q-means_2:26.13% | (no-DR) k-means:53.12% - d-means:18.93% \n",
      "kmeans, dmeans, dmeans, nodr kmeans, nodr dmeans.. \n",
      "Iter: 2, run 1 | (DR) k-means:46.23% - q-means:42.61% - q-means_2:30.38% | (no-DR) k-means:52.60% - d-means:17.02% \n",
      "kmeans, dmeans, dmeans, nodr kmeans, nodr dmeans.. \n",
      "Iter: 2, run 2 | (DR) k-means:46.54% - q-means:43.50% - q-means_2:25.56% | (no-DR) k-means:50.31% - d-means:18.78% \n",
      "kmeans, dmeans, dmeans, nodr kmeans, nodr dmeans.. \n",
      "Iter: 2, run 3 | (DR) k-means:57.71% - q-means:52.04% - q-means_2:31.84% | (no-DR) k-means:56.58% - d-means:17.49% \n",
      "Running clustering with up to 3 iterations \n",
      "kmeans, dmeans, dmeans, nodr kmeans, nodr dmeans.. \n",
      "Iter: 3, run 0 | (DR) k-means:60.26% - q-means:54.98% - q-means_2:32.26% | (no-DR) k-means:55.87% - d-means:18.39% \n",
      "kmeans, dmeans, dmeans, nodr kmeans, nodr dmeans.. \n",
      "Iter: 3, run 1 | (DR) k-means:56.89% - q-means:53.84% - q-means_2:32.01% | (no-DR) k-means:44.02% - d-means:18.57% \n",
      "kmeans, dmeans, dmeans, nodr kmeans, nodr dmeans.. \n",
      "Iter: 3, run 2 | (DR) k-means:48.44% - q-means:47.03% - q-means_2:26.54% | (no-DR) k-means:49.86% - d-means:19.29% \n",
      "kmeans, dmeans, dmeans, nodr kmeans, nodr dmeans.. \n",
      "Iter: 3, run 3 | (DR) k-means:60.15% - q-means:53.26% - q-means_2:23.63% | (no-DR) k-means:49.41% - d-means:17.91% \n",
      "Running clustering with up to 4 iterations \n",
      "kmeans, dmeans, dmeans, nodr kmeans, nodr dmeans.. \n",
      "Iter: 4, run 0 | (DR) k-means:60.76% - q-means:54.49% - q-means_2:30.38% | (no-DR) k-means:57.30% - d-means:17.30% \n",
      "kmeans, dmeans, dmeans, nodr kmeans, nodr dmeans.. \n",
      "Iter: 4, run 1 | (DR) k-means:53.40% - q-means:49.68% - q-means_2:28.45% | (no-DR) k-means:55.73% - d-means:20.62% \n",
      "kmeans, dmeans, dmeans, nodr kmeans, nodr dmeans.. \n",
      "Iter: 4, run 2 | (DR) k-means:57.79% - q-means:54.77% - q-means_2:32.71% | (no-DR) k-means:46.29% - d-means:18.34% \n",
      "kmeans, dmeans, dmeans, nodr kmeans, nodr dmeans.. \n",
      "Iter: 4, run 3 | (DR) k-means:60.52% - q-means:55.51% - q-means_2:32.22% | (no-DR) k-means:57.35% - d-means:18.28% \n",
      "Running clustering with up to 6 iterations \n",
      "kmeans, dmeans, dmeans, nodr kmeans, nodr dmeans.. \n",
      "Iter: 6, run 0 | (DR) k-means:60.64% - q-means:53.96% - q-means_2:30.41% | (no-DR) k-means:55.45% - d-means:20.16% \n",
      "kmeans, dmeans, dmeans, nodr kmeans, nodr dmeans.. \n",
      "Iter: 6, run 1 | (DR) k-means:57.78% - q-means:50.10% - q-means_2:26.08% | (no-DR) k-means:53.51% - d-means:20.11% \n",
      "kmeans, dmeans, dmeans, nodr kmeans, nodr dmeans.. \n",
      "Iter: 6, run 2 | (DR) k-means:53.34% - q-means:48.24% - q-means_2:31.20% | (no-DR) k-means:59.61% - d-means:16.36% \n",
      "kmeans, dmeans, dmeans, nodr kmeans, nodr dmeans.. \n",
      "Iter: 6, run 3 | (DR) k-means:53.89% - q-means:51.14% - q-means_2:27.94% | (no-DR) k-means:59.82% - d-means:20.23% \n"
     ]
    }
   ],
   "source": [
    "iterations_set = np.linspace(1, 6, 5, dtype=int)\n",
    "iterations_set = np.insert(iterations_set, 0,0)\n",
    "\n",
    "results_kmeans = [0] \n",
    "results_dmeans = [0]  \n",
    "results_dmeans_2 = [0] \n",
    "results_kmeans_original = [0] \n",
    "results_dmeans_original = [0] \n",
    "\n",
    "delta = 0.2\n",
    "delta_2 = 0.4\n",
    "delta_original = 0.4\n",
    "\n",
    "n_clusters = 10\n",
    "\n",
    "for iterations in iterations_set[1:]:\n",
    "    print(\"Running clustering with up to {} iterations \".format(iterations))\n",
    "    \n",
    "    accuracy_set_kmeans = []\n",
    "    accuracy_set_dmeans = []\n",
    "    accuracy_set_dmeans_2 = []\n",
    "    accuracy_set_kmeans_original = []\n",
    "    accuracy_set_dmeans_original = []\n",
    "    \n",
    "    for sample in range(4): # this iteration is useless since we have n_iter from sklearn\n",
    "        rseed=random.randint(10,50) #random initialization must be the same for comparing regular and delta kmeans\n",
    "        \n",
    "        #KMEANS\n",
    "        print(\"kmeans, \", end='')\n",
    "        accuracy = accuracy_kmeans(X_train_dr, n_clusters, iterations, X_test_dr, y_test, rseed)\n",
    "        accuracy_set_kmeans.append(accuracy)\n",
    "\n",
    "        #DMEANS\n",
    "        print(\"dmeans, \", end='')\n",
    "        accuracy = accuracy_dmeans(X_train_dr, n_clusters, iterations, X_test_dr, y_test, delta, rseed)\n",
    "        accuracy_set_dmeans.append(accuracy)  \n",
    "\n",
    "        # DMEANS 2\n",
    "        print(\"dmeans, \", end='')\n",
    "        accuracy = accuracy_dmeans(X_train_dr, n_clusters, iterations, X_test_dr, y_test, delta_2, rseed)       \n",
    "        accuracy_set_dmeans_2.append(accuracy)  \n",
    "        \n",
    "        #KMEANS NO-DR\n",
    "        print(\"nodr kmeans, \", end='')\n",
    "        accuracy = accuracy_kmeans(X_train, n_clusters, iterations, X_test, y_test, rseed)\n",
    "        accuracy_set_kmeans_original.append(accuracy)\n",
    "        \n",
    "        # DMEANS NO-DR \n",
    "        print(\"nodr dmeans.. \")\n",
    "        accuracy = accuracy_dmeans(X_train, n_clusters, iterations, X_test, y_test, delta_original,rseed)       \n",
    "        accuracy_set_dmeans_original.append(accuracy)  \n",
    "        \n",
    "        #import pdb\n",
    "        #pdb.set_trace()\n",
    "        print(\"Iter: {}, run {} | (DR) k-means:{:.2%} - q-means:{:.2%} - q-means_2:{:.2%} | (no-DR) k-means:{:.2%} - d-means:{:.2%} \".format(         \n",
    "            iterations, sample, accuracy_set_kmeans[-1], accuracy_set_dmeans[-1], accuracy_set_dmeans_2[-1], accuracy_set_kmeans_original[-1], accuracy_set_dmeans_original[-1] ))    \n",
    "\n",
    "    results_kmeans.append(np.average(accuracy_set_kmeans))\n",
    "    results_dmeans.append(np.average(accuracy_set_dmeans))\n",
    "    results_dmeans_2.append(np.average(accuracy_set_dmeans_2))\n",
    "    results_kmeans_original.append(np.average(accuracy_set_kmeans_original))\n",
    "    results_dmeans_original.append(np.average(accuracy_set_dmeans_original))\n",
    "    "
   ]
  },
  {
   "cell_type": "markdown",
   "metadata": {},
   "source": [
    "## Now we plot the accuracy for all the experiments on MNIST"
   ]
  },
  {
   "cell_type": "code",
   "execution_count": 32,
   "metadata": {},
   "outputs": [
    {
     "data": {
      "image/png": "[encoded data removed]",
      "text/plain": [
       "<Figure size 1080x720 with 1 Axes>"
      ]
     },
     "metadata": {
      "needs_background": "light"
     },
     "output_type": "display_data"
    }
   ],
   "source": [
    "import matplotlib.lines as mlines\n",
    "plt.style.use(\"seaborn-poster\")\n",
    "fig = plt.figure(figsize=(15,10))\n",
    "ax = fig.add_subplot(1, 1, 1) # nrows, ncols, index\n",
    "#iterations_set = [0,2,3,4,5,6,7,8,9]\n",
    "\n",
    "plot_k = ax.plot(iterations_set,results_kmeans,'#9b59b6', label=\"(DR) k-means (original)\")\n",
    "plot_d = ax.plot(iterations_set,results_dmeans,'#3498db', label=\"(DR) q-means ($\\delta$ = {}, $\\eta/\\delta$ = {:.2f})\".format(delta, eta_dr/delta))\n",
    "plot_d_2 = ax.plot(iterations_set,results_dmeans_2,'#95a5a6', label=\"(DR) q-means ($\\delta$ = {}, $\\eta/\\delta$ = {:.2f})\".format(delta_2, eta_dr/delta_2))\n",
    "#plot_k_non_dr = ax.plot(iterations_set,results_kmeans_original,'#e74c3c', label=\"k-means\")\n",
    "#plot_d_non_dr = ax.plot(iterations_set,results_dmeans_original,'#34495e', label=\"$\\delta$-k-means ($\\delta$ = {})\".format(delta_original))\n",
    "\n",
    "\n",
    "ax.set_facecolor('xkcd:white')\n",
    "ax.grid(which='both', color=\"grey\")\n",
    "\n",
    "plt.xlabel('Iterations ', fontsize=20)\n",
    "plt.ylabel('Accuracy (\\%)', fontsize=20)\n",
    "plt.xticks(fontsize=15)\n",
    "plt.yticks(fontsize=15)\n",
    "#plt.rcParams[\"axes.grid.axis\"] =\"y\"\n",
    "\n",
    "plt.xlim(0, 8)\n",
    "plt.ylim(0, 1)\n",
    "plt.grid(linestyle='--', linewidth=1)\n",
    "\n",
    "lgnd = ax.legend(loc='lower right', ncol=1, shadow=True, fancybox=True, prop={'size': 20}) #, labels=['kmeans', 'dmeans'])\n",
    "lgnd.get_frame().set_facecolor('#FFFFFF')"
   ]
  },
  {
   "cell_type": "code",
   "execution_count": 21,
   "metadata": {},
   "outputs": [
    {
     "data": {
      "text/plain": [
       "([0, 0.56945, 0.5680000000000001], [0, 0.48495, 0.5089])"
      ]
     },
     "execution_count": 21,
     "metadata": {},
     "output_type": "execute_result"
    }
   ],
   "source": [
    "results_kmeans, results_kmeans_original # they are basically the same..."
   ]
  },
  {
   "cell_type": "code",
   "execution_count": 24,
   "metadata": {},
   "outputs": [
    {
     "data": {
      "text/plain": [
       "<matplotlib.legend.Legend at 0x7f0cfd5956a0>"
      ]
     },
     "execution_count": 24,
     "metadata": {},
     "output_type": "execute_result"
    },
    {
     "data": {
      "image/png": "[encoded data removed]",
      "text/plain": [
       "<Figure size 1080x720 with 1 Axes>"
      ]
     },
     "metadata": {
      "needs_background": "light"
     },
     "output_type": "display_data"
    }
   ],
   "source": [
    "import matplotlib.lines as mlines\n",
    "plt.style.use(\"seaborn-poster\")\n",
    "fig = plt.figure(figsize=(15,10))\n",
    "ax = fig.add_subplot(1, 1, 1) # nrows, ncols, index\n",
    "#iterations_set = [0,2,3,4,5,6,7,8,9]\n",
    "\n",
    "#plot_k = ax.plot(iterations_set,results_kmeans,'#9b59b6', label=\"(DR) k-means\")\n",
    "#plot_d = ax.plot(iterations_set,results_dmeans,'#3498db', label=\"(DR) q-means ($\\delta$ = {})\".format(delta))\n",
    "#plot_d_2 = ax.plot(iterations_set,results_dmeans_2,'#95a5a6', label=\"(DR) q-means ($\\delta$ = {})\".format(delta_2))\n",
    "plot_k_non_dr = ax.plot(iterations_set,results_kmeans_original,'#e74c3c', label=\"k-means\")\n",
    "plot_d_non_dr = ax.plot(iterations_set,results_dmeans_original,'#34495e', label=\"$\\delta$-k-means ($\\delta$ = {}, $\\eta/\\delta$ = {:+.2f})\".format(delta_original, eta/delta_original))\n",
    "\n",
    "\n",
    "ax.set_facecolor('xkcd:white')\n",
    "ax.grid(which='both', color=\"grey\")\n",
    "\n",
    "plt.xlabel('Iterations ', fontsize=20)\n",
    "plt.ylabel('Accuracy (\\%)', fontsize=20)\n",
    "plt.xticks(fontsize=15)\n",
    "plt.yticks(fontsize=15)\n",
    "\n",
    "plt.xlim(0, 8)\n",
    "plt.ylim(0, 1)\n",
    "plt.grid(True)\n",
    "\n",
    "plt.legend(loc='lower right', ncol=1, shadow=True, fancybox=True, prop={'size': 20}) #, labels=['kmeans', 'dmeans'])"
   ]
  },
  {
   "cell_type": "code",
   "execution_count": null,
   "metadata": {},
   "outputs": [],
   "source": []
  }
 ],
 "metadata": {
  "kernelspec": {
   "display_name": "Python 3",
   "language": "python",
   "name": "python3"
  },
  "language_info": {
   "codemirror_mode": {
    "name": "ipython",
    "version": 3
   },
   "file_extension": ".py",
   "mimetype": "text/x-python",
   "name": "python",
   "nbconvert_exporter": "python",
   "pygments_lexer": "ipython3",
   "version": "3.7.0"
  }
 },
 "nbformat": 4,
 "nbformat_minor": 2
}
